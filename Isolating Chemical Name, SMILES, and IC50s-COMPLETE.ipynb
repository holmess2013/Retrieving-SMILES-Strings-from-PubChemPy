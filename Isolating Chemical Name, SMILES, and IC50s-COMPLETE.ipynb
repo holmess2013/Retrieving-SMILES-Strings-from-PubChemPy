{
 "cells": [
  {
   "cell_type": "code",
   "execution_count": 11,
   "id": "51b0b12f",
   "metadata": {},
   "outputs": [],
   "source": [
    "files = [\n",
    "    'table_1.txt',\n",
    "    'table_2.txt',\n",
    "    'table_3.txt',\n",
    "    'table_4.txt',\n",
    "    'table_5.txt',\n",
    "    'table_6.txt',\n",
    "    'table_7.txt',\n",
    "    'table_8.txt',\n",
    "    'table_9.txt',\n",
    "    'table_10.txt',\n",
    "    'table_11.txt',\n",
    "    'table_12.txt'\n",
    "]"
   ]
  },
  {
   "cell_type": "code",
   "execution_count": 12,
   "id": "81ef45eb",
   "metadata": {},
   "outputs": [],
   "source": [
    "import pubchempy as pcp\n",
    "import time"
   ]
  },
  {
   "cell_type": "code",
   "execution_count": 13,
   "id": "48e6a50f",
   "metadata": {},
   "outputs": [],
   "source": [
    "def retrieve_smiles(name):\n",
    "    # The first line is here is SUPER necessary. This prevents a server error from being thrown because you\n",
    "    # are making too many queries to the PubChem database too quickly and PubChem is having trouble processing them \n",
    "    # amongst the other millions of queries occuring around the world.\n",
    "    time.sleep(.1)\n",
    "    compound = pcp.get_compounds(name, 'name')\n",
    "    if compound:\n",
    "        smiles = compound[0].isomeric_smiles\n",
    "        return smiles\n",
    "            "
   ]
  },
  {
   "cell_type": "code",
   "execution_count": 14,
   "id": "f349814b",
   "metadata": {},
   "outputs": [],
   "source": [
    "def isolate_IC50(line):\n",
    "    # This function take the IC50 from the line and cleans it up. There are many typos that occurred when copying the table\n",
    "    # from the pdf into a text file.\n",
    "    line = line.replace(' 3 ','*')\n",
    "    line = line.split(' ')\n",
    "    for i in line:\n",
    "        if '*' in i:\n",
    "            i = i.replace('*10–','e-')\n",
    "            if i[0] == '.':\n",
    "                i = float(i[1:])\n",
    "                break\n",
    "            else:\n",
    "                i = float(i)\n",
    "                break\n",
    "    return i"
   ]
  },
  {
   "cell_type": "code",
   "execution_count": null,
   "id": "9c2fda84",
   "metadata": {},
   "outputs": [],
   "source": [
    "chemical_names = []\n",
    "smiles_list = []\n",
    "IC50s_list = []\n",
    "\n",
    "for file in files:\n",
    "    with open(file, encoding = \"UTF-8\") as f:\n",
    "        lines = f.readlines()\n",
    "    # In order to extract the chemical name for all tables, I need some method that will work for all tables.I can do this \n",
    "    # scanning through a list of all sources where the chemicals were purchased, as this comes directly after each chemical name.\n",
    "    # Python will scan through the list, and split at the source if it finds one. \n",
    "    chemical_sources = [\n",
    "    'U.S. Biochemical',\n",
    "    'Research Plus',\n",
    "    'Aldrich',\n",
    "    'Sigma',\n",
    "    'NCI',\n",
    "    'R. H. Purdy',\n",
    "    'Zeneca',\n",
    "    'Steraloids',\n",
    "    'Fluka',\n",
    "    'Lancaster',\n",
    "    'Supelco',\n",
    "    'NIEHS',\n",
    "    'Ultra Scientific',\n",
    "    'BiolMol',\n",
    "    'Pfaltz & Bauer',\n",
    "    'Schenectady'\n",
    "       ]\n",
    "    \n",
    "    for line in lines:\n",
    "        # If a source is present in the line, isolate the chemical name, and remove extra white space on either side. \n",
    "        for source in chemical_sources:\n",
    "            if source in line:\n",
    "                name = line.split(source)[0]\n",
    "                name = name.strip()\n",
    "                \n",
    "                #If the chemical name is a blank string, move to the next line.\n",
    "                if name == '':\n",
    "                    pass\n",
    "                \n",
    "                # If the name has a superscript a, b, or c, at the end of it, look to see if it also has either:\n",
    "                \n",
    "                # 1) A portion in parentheses (which is trivial because its either an alternate name or lot number) AND a \n",
    "                #    lone 9, which should have been an apostrophe.\n",
    "                elif name[-1] == 'a' or name[-1] == 'b' or name[-1] == 'c':\n",
    "                    name = name[:-1]\n",
    "                    \n",
    "                    if name[-1] == ')' and '9' in name:\n",
    "                        name = name.split('(')[0]\n",
    "                        name = name.replace('9',\"'\")\n",
    "                        # Query the PubChem data base given the chemical name, and if a SMILES is found,\n",
    "                        # save the chemical name, the SMILES, and the IC50. This code block is the final step to be \n",
    "                        # executed for each chemical name, and thus shows up multiple times in this program.\n",
    "                        if retrieve_smiles(name) != None:\n",
    "                            chemical_names.append(name)\n",
    "                            smiles_list.append(retrieve_smiles(name))\n",
    "                            IC50s_list.append(isolate_IC50(line))\n",
    "                        else:\n",
    "                            pass\n",
    "                        \n",
    "                     # 2) Only a portion in parentheses.        \n",
    "                    if name[-1] == ')':\n",
    "                        name = name.split('(')[0]\n",
    "                        if retrieve_smiles(name) != None:\n",
    "                            chemical_names.append(name)\n",
    "                            smiles_list.append(retrieve_smiles(name))\n",
    "                            IC50s_list.append(isolate_IC50(line))\n",
    "                        else:\n",
    "                            pass\n",
    "                        \n",
    "                     # 3) Only a 9.   \n",
    "                    elif '9' in name:\n",
    "                        name = name.replace('9',\"'\")\n",
    "                        if retrieve_smiles(name) != None:\n",
    "                            chemical_names.append(name)\n",
    "                            smiles_list.append(retrieve_smiles(name))\n",
    "                            IC50s_list.append(isolate_IC50(line))\n",
    "                        else:\n",
    "                            pass\n",
    "                        \n",
    "                    else:\n",
    "                        if retrieve_smiles(name) != None:\n",
    "                            chemical_names.append(name)\n",
    "                            smiles_list.append(retrieve_smiles(name))\n",
    "                            IC50s_list.append(isolate_IC50(line))\n",
    "                        else:\n",
    "                            pass\n",
    "                        \n",
    "                # If there is no a,b, or c superscript at the end of the name, still check for the above three typos.   \n",
    "                else:\n",
    "                    if name[-1] == ')' and '9' in name:\n",
    "                        name = name.split('(')[0]\n",
    "                        name = name.replace('9',\"'\")\n",
    "                        if retrieve_smiles(name) != None:\n",
    "                            chemical_names.append(name)\n",
    "                            smiles_list.append(retrieve_smiles(name))\n",
    "                            IC50s_list.append(isolate_IC50(line))\n",
    "                        else:\n",
    "                            pass\n",
    "                            \n",
    "                    if name[-1] == ')':\n",
    "                        name = name.split('(')[0]\n",
    "                        if retrieve_smiles(name) != None:\n",
    "                            chemical_names.append(name)\n",
    "                            smiles_list.append(retrieve_smiles(name))\n",
    "                            IC50s_list.append(isolate_IC50(line))\n",
    "                        else:\n",
    "                            pass\n",
    "                        \n",
    "    \n",
    "                    elif '9' in name:\n",
    "                        name = name.replace('9',\"'\")\n",
    "                        if retrieve_smiles(name) != None:\n",
    "                            chemical_names.append(name)\n",
    "                            smiles_list.append(retrieve_smiles(name))\n",
    "                            IC50s_list.append(isolate_IC50(line))\n",
    "                        else:\n",
    "                            pass\n",
    "         \n",
    "                    else:\n",
    "                        if retrieve_smiles(name) != None:\n",
    "                            chemical_names.append(name)\n",
    "                            smiles_list.append(retrieve_smiles(name))\n",
    "                            IC50s_list.append(isolate_IC50(line))\n",
    "                        else:\n",
    "                            pass\n",
    "\n",
    "                \n",
    "                \n",
    "                \n",
    "            \n",
    "   "
   ]
  },
  {
   "cell_type": "code",
   "execution_count": null,
   "id": "8edcbdef",
   "metadata": {},
   "outputs": [],
   "source": [
    "len(chemical_names)"
   ]
  },
  {
   "cell_type": "code",
   "execution_count": null,
   "id": "7d6ef9e6",
   "metadata": {},
   "outputs": [],
   "source": [
    "len(smiles_list)"
   ]
  },
  {
   "cell_type": "code",
   "execution_count": null,
   "id": "cdf70b58",
   "metadata": {},
   "outputs": [],
   "source": [
    "len(IC50s_list)"
   ]
  },
  {
   "cell_type": "code",
   "execution_count": null,
   "id": "b710be32",
   "metadata": {
    "scrolled": true
   },
   "outputs": [],
   "source": [
    "print(chemical_names)"
   ]
  },
  {
   "cell_type": "code",
   "execution_count": null,
   "id": "1f6a8263",
   "metadata": {},
   "outputs": [],
   "source": [
    "# For some reason, there is additional white space on some chemical names, so let's remove that\n",
    "chemical_names_stripped = []\n",
    "for chemical in chemical_names:\n",
    "    chemical = chemical.strip()\n",
    "    chemical_names_stripped.append(chemical)"
   ]
  },
  {
   "cell_type": "code",
   "execution_count": null,
   "id": "bbb3953a",
   "metadata": {},
   "outputs": [],
   "source": [
    "chemical_names_stripped"
   ]
  },
  {
   "cell_type": "code",
   "execution_count": null,
   "id": "f0a4c64c",
   "metadata": {},
   "outputs": [],
   "source": [
    "len(chemical_names_stripped)"
   ]
  },
  {
   "cell_type": "code",
   "execution_count": null,
   "id": "05f21b47",
   "metadata": {},
   "outputs": [],
   "source": [
    "print(smiles_list)"
   ]
  },
  {
   "cell_type": "code",
   "execution_count": null,
   "id": "b2194d16",
   "metadata": {},
   "outputs": [],
   "source": [
    "print(IC50s_list)"
   ]
  },
  {
   "cell_type": "code",
   "execution_count": null,
   "id": "470a2e83",
   "metadata": {},
   "outputs": [],
   "source": [
    "import pandas as pd"
   ]
  },
  {
   "cell_type": "code",
   "execution_count": null,
   "id": "48f1ec2f",
   "metadata": {},
   "outputs": [],
   "source": [
    "df = pd.DataFrame()"
   ]
  },
  {
   "cell_type": "code",
   "execution_count": null,
   "id": "4c04e48e",
   "metadata": {},
   "outputs": [],
   "source": [
    "df['Chemical'] = chemical_names_stripped\n",
    "df['SMILES'] = smiles_list\n",
    "df['Mean IC50 (M)'] = IC50s_list"
   ]
  },
  {
   "cell_type": "code",
   "execution_count": null,
   "id": "9f5e79df",
   "metadata": {},
   "outputs": [],
   "source": [
    "df"
   ]
  },
  {
   "cell_type": "code",
   "execution_count": null,
   "id": "a15e35d5",
   "metadata": {},
   "outputs": [],
   "source": [
    "# drop the duplicate rows\n",
    "df = df.drop_duplicates()"
   ]
  },
  {
   "cell_type": "code",
   "execution_count": null,
   "id": "7c53f31a",
   "metadata": {},
   "outputs": [],
   "source": [
    "df"
   ]
  },
  {
   "cell_type": "code",
   "execution_count": null,
   "id": "f72585b8",
   "metadata": {},
   "outputs": [],
   "source": [
    "# THAT'LL DO DONKEY! THAT'LL DO!\n",
    "df.to_csv('dataset.csv', sep = '\\t', index = None)"
   ]
  },
  {
   "cell_type": "code",
   "execution_count": null,
   "id": "074a88e5",
   "metadata": {},
   "outputs": [],
   "source": [
    "with open('dataset.txt', 'w') as f:\n",
    "    for chemical, smiles, IC50 in zip(chemical_names_stripped, smiles_list, IC50s_list):\n",
    "        f.write(chemical + '\\t' + smiles + '\\t'+ str(IC50) + '\\n')"
   ]
  },
  {
   "cell_type": "code",
   "execution_count": null,
   "id": "dacbc761",
   "metadata": {},
   "outputs": [],
   "source": []
  },
  {
   "cell_type": "code",
   "execution_count": null,
   "id": "34acdfb9",
   "metadata": {},
   "outputs": [],
   "source": []
  }
 ],
 "metadata": {
  "kernelspec": {
   "display_name": "Python 3 (ipykernel)",
   "language": "python",
   "name": "python3"
  },
  "language_info": {
   "codemirror_mode": {
    "name": "ipython",
    "version": 3
   },
   "file_extension": ".py",
   "mimetype": "text/x-python",
   "name": "python",
   "nbconvert_exporter": "python",
   "pygments_lexer": "ipython3",
   "version": "3.7.3"
  }
 },
 "nbformat": 4,
 "nbformat_minor": 5
}
